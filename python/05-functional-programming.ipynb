{
 "cells": [
  {
   "cell_type": "markdown",
   "metadata": {},
   "source": [
    "### Lambda functions\n",
    "\n",
    "syntax\n",
    "\n",
    "\n",
    "\n",
    "`function_name = lambda input_arg: body`"
   ]
  },
  {
   "cell_type": "code",
   "execution_count": 1,
   "metadata": {},
   "outputs": [],
   "source": [
    "greet_someone = lambda name: 'Hi {}, nice to meet you.'.format(name)"
   ]
  },
  {
   "cell_type": "code",
   "execution_count": 2,
   "metadata": {},
   "outputs": [
    {
     "data": {
      "text/plain": [
       "'Hi Sai, nice to meet you.'"
      ]
     },
     "execution_count": 2,
     "metadata": {},
     "output_type": "execute_result"
    }
   ],
   "source": [
    "greet_someone('Sai')"
   ]
  },
  {
   "cell_type": "code",
   "execution_count": 3,
   "metadata": {},
   "outputs": [],
   "source": [
    "from datetime import date\n",
    "todays_date = lambda : '{}'.format(date.today())"
   ]
  },
  {
   "cell_type": "code",
   "execution_count": 4,
   "metadata": {},
   "outputs": [
    {
     "data": {
      "text/plain": [
       "'2022-11-11'"
      ]
     },
     "execution_count": 4,
     "metadata": {},
     "output_type": "execute_result"
    }
   ],
   "source": [
    "todays_date()"
   ]
  },
  {
   "cell_type": "markdown",
   "metadata": {},
   "source": [
    "the input dataset"
   ]
  },
  {
   "cell_type": "code",
   "execution_count": 5,
   "metadata": {},
   "outputs": [],
   "source": [
    "base_dataset = [10, 100, 1000, 10000, 100000]"
   ]
  },
  {
   "cell_type": "code",
   "execution_count": 6,
   "metadata": {},
   "outputs": [],
   "source": [
    "multiplier = lambda some_dataset: some_dataset*20\n"
   ]
  },
  {
   "cell_type": "markdown",
   "metadata": {},
   "source": [
    "invoking the `lambda` function"
   ]
  },
  {
   "cell_type": "code",
   "execution_count": 7,
   "metadata": {},
   "outputs": [
    {
     "name": "stdout",
     "output_type": "stream",
     "text": [
      "[10, 100, 1000, 10000, 100000, 10, 100, 1000, 10000, 100000, 10, 100, 1000, 10000, 100000, 10, 100, 1000, 10000, 100000, 10, 100, 1000, 10000, 100000, 10, 100, 1000, 10000, 100000, 10, 100, 1000, 10000, 100000, 10, 100, 1000, 10000, 100000, 10, 100, 1000, 10000, 100000, 10, 100, 1000, 10000, 100000, 10, 100, 1000, 10000, 100000, 10, 100, 1000, 10000, 100000, 10, 100, 1000, 10000, 100000, 10, 100, 1000, 10000, 100000, 10, 100, 1000, 10000, 100000, 10, 100, 1000, 10000, 100000, 10, 100, 1000, 10000, 100000, 10, 100, 1000, 10000, 100000, 10, 100, 1000, 10000, 100000, 10, 100, 1000, 10000, 100000]\n"
     ]
    }
   ],
   "source": [
    "print(multiplier(base_dataset))"
   ]
  },
  {
   "cell_type": "markdown",
   "metadata": {},
   "source": [
    "that's not the kinda output you're looking for. therefore use maps as shown below"
   ]
  },
  {
   "cell_type": "markdown",
   "metadata": {},
   "source": [
    "## Maps\n",
    "\n",
    "syntax - \n",
    "\n",
    "`map(function_name, name of list/tuples)`"
   ]
  },
  {
   "cell_type": "code",
   "execution_count": 8,
   "metadata": {},
   "outputs": [
    {
     "data": {
      "text/plain": [
       "[50, 500, 5000, 50000, 500000]"
      ]
     },
     "execution_count": 8,
     "metadata": {},
     "output_type": "execute_result"
    }
   ],
   "source": [
    "# base_dataset = [10, 100, 1000, 10000, 100000]\n",
    "\n",
    "def multiplier(dataset):\n",
    "    return dataset*5\n",
    "\n",
    "map(multiplier, base_dataset)\n",
    "list(map(multiplier, base_dataset))"
   ]
  },
  {
   "cell_type": "markdown",
   "metadata": {},
   "source": [
    "### Maps using lambda function\n",
    "\n",
    "syntax\n",
    "\n",
    "`map(lambda input_arg: body, name of list/tuples)`"
   ]
  },
  {
   "cell_type": "code",
   "execution_count": 9,
   "metadata": {},
   "outputs": [
    {
     "data": {
      "text/plain": [
       "[200, 2000, 20000, 200000, 2000000]"
      ]
     },
     "execution_count": 9,
     "metadata": {},
     "output_type": "execute_result"
    }
   ],
   "source": [
    "# from math import trunc\n",
    "# map(lambda some_dataset: some_dataset*200, base_dataset)\n",
    "list(map(lambda some_dataset: some_dataset*20, base_dataset))"
   ]
  },
  {
   "cell_type": "markdown",
   "metadata": {},
   "source": [
    "Essentially, replace the entire `function` part of the syntax with a `lambda` declaration\n",
    "\n",
    "### Maps using lamda function with multiple inputs.\n",
    "\n",
    "we already have seen the base dataset input i.e.\n",
    "\n",
    "```\n",
    "base_dataset = [10, 100, 1000, 10000, 100000]\n",
    "```\n",
    "\n",
    "now here's another"
   ]
  },
  {
   "cell_type": "code",
   "execution_count": 10,
   "metadata": {},
   "outputs": [],
   "source": [
    "another_input_dataset = [101, 102, 7.001, 5000, 12, -35.49124839]"
   ]
  },
  {
   "cell_type": "code",
   "execution_count": 11,
   "metadata": {},
   "outputs": [
    {
     "data": {
      "text/plain": [
       "[111, 202, 1007.001, 15000, 100012]"
      ]
     },
     "execution_count": 11,
     "metadata": {},
     "output_type": "execute_result"
    }
   ],
   "source": [
    "list(map(lambda some_dataset1, some_dataset2: some_dataset1+some_dataset2, base_dataset, another_input_dataset))"
   ]
  }
 ],
 "metadata": {
  "kernelspec": {
   "display_name": "Python 3.7.9 ('venv')",
   "language": "python",
   "name": "python3"
  },
  "language_info": {
   "codemirror_mode": {
    "name": "ipython",
    "version": 3
   },
   "file_extension": ".py",
   "mimetype": "text/x-python",
   "name": "python",
   "nbconvert_exporter": "python",
   "pygments_lexer": "ipython3",
   "version": "3.7.9"
  },
  "orig_nbformat": 4,
  "vscode": {
   "interpreter": {
    "hash": "989b18c85b380cb5d4dc88751aba259d5b2349ae82f143d55ba9fdb5c3f8c88a"
   }
  }
 },
 "nbformat": 4,
 "nbformat_minor": 2
}
