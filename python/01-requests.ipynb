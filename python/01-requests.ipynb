{
 "cells": [
  {
   "cell_type": "markdown",
   "metadata": {},
   "source": [
    "# Requests Library"
   ]
  },
  {
   "cell_type": "code",
   "execution_count": 57,
   "metadata": {},
   "outputs": [],
   "source": [
    "import requests\n",
    "import pandas as pd\n",
    "import time\n",
    "from datetime import datetime"
   ]
  },
  {
   "cell_type": "markdown",
   "metadata": {},
   "source": [
    "### test whether the get() method works"
   ]
  },
  {
   "cell_type": "code",
   "execution_count": 5,
   "metadata": {},
   "outputs": [
    {
     "data": {
      "text/plain": [
       "<Response [200]>"
      ]
     },
     "execution_count": 5,
     "metadata": {},
     "output_type": "execute_result"
    }
   ],
   "source": [
    "requests.get('https://www.facebook.com')"
   ]
  },
  {
   "cell_type": "markdown",
   "metadata": {},
   "source": [
    "## Currency Exchange"
   ]
  },
  {
   "cell_type": "code",
   "execution_count": 49,
   "metadata": {},
   "outputs": [],
   "source": [
    "INR_buy_value = requests.get('https://blockchain.info/ticker').json()['INR']['buy']"
   ]
  },
  {
   "cell_type": "code",
   "execution_count": 54,
   "metadata": {},
   "outputs": [
    {
     "name": "stdout",
     "output_type": "stream",
     "text": [
      "The current INR buy value is at 1438072.07\n",
      "The current INR buy value is at 1438072.07\n"
     ]
    }
   ],
   "source": [
    "print('The current INR buy value is at', INR_buy_value)"
   ]
  },
  {
   "cell_type": "markdown",
   "metadata": {},
   "source": [
    "### Have the value refresh every 2 seconds."
   ]
  },
  {
   "cell_type": "code",
   "execution_count": 61,
   "metadata": {},
   "outputs": [
    {
     "name": "stdout",
     "output_type": "stream",
     "text": [
      "EUR buy value at 2022-11-10 18:23:28.804808 is 17506.71\n",
      "EUR buy value at 2022-11-10 18:23:30.982201 is 17506.71\n",
      "EUR buy value at 2022-11-10 18:23:33.069214 is 17506.71\n",
      "EUR buy value at 2022-11-10 18:23:35.212872 is 17506.71\n",
      "EUR buy value at 2022-11-10 18:23:37.300798 is 17506.71\n",
      "EUR buy value at 2022-11-10 18:23:39.416692 is 17506.71\n",
      "EUR buy value at 2022-11-10 18:23:41.527071 is 17506.71\n",
      "EUR buy value at 2022-11-10 18:23:43.664724 is 17506.71\n",
      "EUR buy value at 2022-11-10 18:23:45.859639 is 17506.71\n",
      "EUR buy value at 2022-11-10 18:23:48.024818 is 17506.71\n",
      "EUR buy value at 2022-11-10 18:23:50.181249 is 17506.71\n"
     ]
    }
   ],
   "source": [
    "def getCurrentTime():\n",
    "    now = datetime.now()\n",
    "    current_time = now.strftime(\"%H:%M:%S\")\n",
    "    return now\n",
    "\n",
    "def getBuyValue(currency_type):\n",
    "    buy_value = requests.get('https://blockchain.info/ticker').json()[currency_type]['buy']\n",
    "    print('{} buy value at {} is {}'.format(currency_type, getCurrentTime(), buy_value))\n",
    "\n",
    "i=0\n",
    "\n",
    "while i<=10:\n",
    "    time.sleep(2)\n",
    "    getBuyValue('EUR')\n",
    "    i+=1"
   ]
  }
 ],
 "metadata": {
  "kernelspec": {
   "display_name": "Python 3.7.9 ('venv')",
   "language": "python",
   "name": "python3"
  },
  "language_info": {
   "codemirror_mode": {
    "name": "ipython",
    "version": 3
   },
   "file_extension": ".py",
   "mimetype": "text/x-python",
   "name": "python",
   "nbconvert_exporter": "python",
   "pygments_lexer": "ipython3",
   "version": "3.7.9"
  },
  "orig_nbformat": 4,
  "vscode": {
   "interpreter": {
    "hash": "989b18c85b380cb5d4dc88751aba259d5b2349ae82f143d55ba9fdb5c3f8c88a"
   }
  }
 },
 "nbformat": 4,
 "nbformat_minor": 2
}
