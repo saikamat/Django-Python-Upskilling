{
 "cells": [
  {
   "cell_type": "markdown",
   "metadata": {},
   "source": [
    "# Role Playing Game\n",
    "\n",
    "- Player can select from diff characters (wizard, elf, knight, etc)\n",
    "- each character has different aspects (strength, attack, defence, health, gold)\n",
    "- provide a no. of scenarios where the player meets friends and enemies\n",
    "- different enemies appear on the basis of the user's choice\n",
    "- if the player makes a choice that helps them meet a friend, the friend then provides the player with gold, or health points.\n",
    "- enemies too have different aspects (strength, attack, defence, health, gold)\n",
    "- user and enemy battle\n",
    "- if player gets zero health, the game ends\n",
    "\n",
    "\n",
    "* BONUS: sometimes there's an element of actual chance whether an enemy will appear or not\n",
    "* BONUS: when user creates their character, they are given 5 points that they can add to their strength, defence, etc.\n",
    "* BONUS (for fun): add a goal for the user - find a treasure, save the village, slay the dragon etc."
   ]
  },
  {
   "cell_type": "code",
   "execution_count": null,
   "metadata": {},
   "outputs": [],
   "source": [
    "class Player():\n",
    "    def __init__(self, type, strength, attack, defence, health, gold):\n",
    "        self.type = type\n",
    "        self.strength = strength\n",
    "        self.attack = attack\n",
    "        self.defence = defence\n",
    "        self.health = health\n",
    "        self.gold = gold\n",
    "    \n",
    "    def verifyChoice(self, player_choice):\n",
    "        self.playerChoice = player_choice\n",
    "        try:\n",
    "            player_choice = int(player_choice)\n",
    "            if player_choice > 6 and player_choice < 1:\n",
    "                break\n",
    "        except:\n",
    "            print('{} is not a valid choice. Choose between 1 to 6')\n",
    "\n",
    "    def playerChoice(self):\n",
    "        player_choice = input('Make a choice (enter a no. between 1 to 6:')\n",
    "        verifyChoice(player_choice)\n",
    "        \n",
    "\n",
    "    "
   ]
  }
 ],
 "metadata": {
  "kernelspec": {
   "display_name": "Python 3.7.9 ('venv')",
   "language": "python",
   "name": "python3"
  },
  "language_info": {
   "name": "python",
   "version": "3.7.9"
  },
  "orig_nbformat": 4,
  "vscode": {
   "interpreter": {
    "hash": "989b18c85b380cb5d4dc88751aba259d5b2349ae82f143d55ba9fdb5c3f8c88a"
   }
  }
 },
 "nbformat": 4,
 "nbformat_minor": 2
}
